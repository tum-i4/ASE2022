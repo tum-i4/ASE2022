{
 "cells": [
  {
   "cell_type": "markdown",
   "id": "d9ce7ed2",
   "metadata": {
    "papermill": {
     "duration": 0.050175,
     "end_time": "2022-05-06T12:19:13.515496",
     "exception": false,
     "start_time": "2022-05-06T12:19:13.465321",
     "status": "completed"
    },
    "tags": []
   },
   "source": [
    "# Sentiment Analysis - Feature extraction"
   ]
  },
  {
   "cell_type": "markdown",
   "id": "4972f3a2",
   "metadata": {
    "papermill": {
     "duration": 0.04441,
     "end_time": "2022-05-06T12:19:13.606862",
     "exception": false,
     "start_time": "2022-05-06T12:19:13.562452",
     "status": "completed"
    },
    "tags": []
   },
   "source": [
    "1. Acknowledgments\n",
    "2. Import libraries\n",
    "2. Load data\n",
    "3. Text preprocessing\n",
    "1. Class distribution\n",
    "4. Feature extraction characteristics\n",
    "    1. POS Tags\n",
    "    8. N-grams\n",
    "    1. Frequency"
   ]
  },
  {
   "cell_type": "markdown",
   "id": "c7a30bad",
   "metadata": {
    "papermill": {
     "duration": 0.045944,
     "end_time": "2022-05-06T12:19:13.702352",
     "exception": false,
     "start_time": "2022-05-06T12:19:13.656408",
     "status": "completed"
    },
    "tags": []
   },
   "source": [
    "### Acknowledgements"
   ]
  },
  {
   "cell_type": "markdown",
   "id": "9aa2ca6a",
   "metadata": {
    "papermill": {
     "duration": 0.044954,
     "end_time": "2022-05-06T12:19:13.791875",
     "exception": false,
     "start_time": "2022-05-06T12:19:13.746921",
     "status": "completed"
    },
    "tags": []
   },
   "source": [
    "This kernel is inspired by the following notebooks: \n",
    "* NLP - EDA, Bag of Words, TF IDF, GloVe, BERT\n",
    "* Twitter sentiment Extaction-Analysis,EDA and Model"
   ]
  },
  {
   "cell_type": "markdown",
   "id": "66b5687b",
   "metadata": {
    "papermill": {
     "duration": 0.044888,
     "end_time": "2022-05-06T12:19:13.881746",
     "exception": false,
     "start_time": "2022-05-06T12:19:13.836858",
     "status": "completed"
    },
    "tags": []
   },
   "source": [
    "### Import libraries"
   ]
  },
  {
   "cell_type": "code",
   "execution_count": null,
   "id": "47944bb6",
   "metadata": {
    "execution": {
     "iopub.execute_input": "2022-05-06T12:19:13.973355Z",
     "iopub.status.busy": "2022-05-06T12:19:13.972911Z",
     "iopub.status.idle": "2022-05-06T12:19:25.119701Z",
     "shell.execute_reply": "2022-05-06T12:19:25.118939Z"
    },
    "papermill": {
     "duration": 11.196364,
     "end_time": "2022-05-06T12:19:25.122498",
     "exception": false,
     "start_time": "2022-05-06T12:19:13.926134",
     "status": "completed"
    },
    "tags": []
   },
   "outputs": [],
   "source": [
    "from json import load\n",
    "from collections import Counter\n",
    "from pandas import DataFrame\n",
    "from wordcloud import WordCloud\n",
    "from nltk import word_tokenize\n",
    "from nltk.text import Text\n",
    "from sklearn.feature_extraction.text import TfidfVectorizer\n",
    "import re\n",
    "import matplotlib.pyplot as plt\n",
    "import string\n",
    "import spacy"
   ]
  },
  {
   "cell_type": "markdown",
   "id": "b3d15e88",
   "metadata": {
    "papermill": {
     "duration": 0.044357,
     "end_time": "2022-05-06T12:19:25.212175",
     "exception": false,
     "start_time": "2022-05-06T12:19:25.167818",
     "status": "completed"
    },
    "tags": []
   },
   "source": [
    "### Load data"
   ]
  },
  {
   "cell_type": "code",
   "execution_count": null,
   "id": "e07d291d",
   "metadata": {
    "execution": {
     "iopub.execute_input": "2022-05-06T12:19:25.304500Z",
     "iopub.status.busy": "2022-05-06T12:19:25.303961Z",
     "iopub.status.idle": "2022-05-06T12:19:25.391367Z",
     "shell.execute_reply": "2022-05-06T12:19:25.390467Z"
    },
    "papermill": {
     "duration": 0.136282,
     "end_time": "2022-05-06T12:19:25.393662",
     "exception": false,
     "start_time": "2022-05-06T12:19:25.257380",
     "status": "completed"
    },
    "tags": []
   },
   "outputs": [],
   "source": [
    "with open(\"../input/ase2022/docs/cis/1909/sec_docs.json\") as f_read:\n",
    "    security_documents = load(f_read)\n",
    "\n",
    "with open(\"../input/ase2022/docs/cis/1909/non_sec_docs.json\") as f_read:\n",
    "    non_security_documents = load(f_read)\n",
    "\n",
    "print(f\"CIS windows 10 version 1909:\")\n",
    "print(f\"{len(security_documents)} security documents.\")\n",
    "print(f\"{len(non_security_documents)} non security documents.\")"
   ]
  },
  {
   "cell_type": "code",
   "execution_count": null,
   "id": "d5e45a89",
   "metadata": {
    "execution": {
     "iopub.execute_input": "2022-05-06T12:19:25.487423Z",
     "iopub.status.busy": "2022-05-06T12:19:25.486750Z",
     "iopub.status.idle": "2022-05-06T12:19:25.507710Z",
     "shell.execute_reply": "2022-05-06T12:19:25.506815Z"
    },
    "papermill": {
     "duration": 0.070243,
     "end_time": "2022-05-06T12:19:25.510225",
     "exception": false,
     "start_time": "2022-05-06T12:19:25.439982",
     "status": "completed"
    },
    "tags": []
   },
   "outputs": [],
   "source": [
    "# Pandas dataframe\n",
    "df_sec_docs = DataFrame(security_documents)\n",
    "df_non_sec_docs = DataFrame(non_security_documents)\n",
    "\n",
    "# Text representation\n",
    "sec_docs_text = df_sec_docs.text.tolist()\n",
    "non_sec_docs_text = df_non_sec_docs.text.tolist()"
   ]
  },
  {
   "cell_type": "code",
   "execution_count": null,
   "id": "737d2c14",
   "metadata": {
    "execution": {
     "iopub.execute_input": "2022-05-06T12:19:25.603596Z",
     "iopub.status.busy": "2022-05-06T12:19:25.602833Z",
     "iopub.status.idle": "2022-05-06T12:19:25.611446Z",
     "shell.execute_reply": "2022-05-06T12:19:25.610865Z"
    },
    "papermill": {
     "duration": 0.058471,
     "end_time": "2022-05-06T12:19:25.613831",
     "exception": false,
     "start_time": "2022-05-06T12:19:25.555360",
     "status": "completed"
    },
    "tags": []
   },
   "outputs": [],
   "source": [
    "print(df_sec_docs.head(10))"
   ]
  },
  {
   "cell_type": "markdown",
   "id": "a6311406",
   "metadata": {
    "papermill": {
     "duration": 0.045697,
     "end_time": "2022-05-06T12:19:25.706102",
     "exception": false,
     "start_time": "2022-05-06T12:19:25.660405",
     "status": "completed"
    },
    "tags": []
   },
   "source": [
    "### Text preprocessing"
   ]
  },
  {
   "cell_type": "markdown",
   "id": "744bda99",
   "metadata": {
    "papermill": {
     "duration": 0.046842,
     "end_time": "2022-05-06T12:19:25.799359",
     "exception": false,
     "start_time": "2022-05-06T12:19:25.752517",
     "status": "completed"
    },
    "tags": []
   },
   "source": [
    "The Spacy library performs tokenization on the documents and automatically attaches several pieces of information to each word: \n",
    "* lemma\n",
    "* pos-tag\n",
    "* is stop-word"
   ]
  },
  {
   "cell_type": "markdown",
   "id": "282fcd69",
   "metadata": {
    "papermill": {
     "duration": 0.045566,
     "end_time": "2022-05-06T12:19:25.890855",
     "exception": false,
     "start_time": "2022-05-06T12:19:25.845289",
     "status": "completed"
    },
    "tags": []
   },
   "source": [
    "Spacy does not include a stemmer"
   ]
  },
  {
   "cell_type": "code",
   "execution_count": null,
   "id": "25bec8d7",
   "metadata": {
    "execution": {
     "iopub.execute_input": "2022-05-06T12:19:25.984686Z",
     "iopub.status.busy": "2022-05-06T12:19:25.984418Z",
     "iopub.status.idle": "2022-05-06T12:21:43.168127Z",
     "shell.execute_reply": "2022-05-06T12:21:43.167212Z"
    },
    "papermill": {
     "duration": 137.234316,
     "end_time": "2022-05-06T12:21:43.170922",
     "exception": false,
     "start_time": "2022-05-06T12:19:25.936606",
     "status": "completed"
    },
    "tags": []
   },
   "outputs": [],
   "source": [
    "nlp = spacy.load('en_core_web_sm')\n",
    "spacy_non_sec_docs= [nlp(document) for document in df_non_sec_docs['text']]\n",
    "spacy_sec_docs= [nlp(document) for document in df_sec_docs['text']]"
   ]
  },
  {
   "cell_type": "markdown",
   "id": "7313d07a",
   "metadata": {
    "papermill": {
     "duration": 0.050747,
     "end_time": "2022-05-06T12:21:43.270626",
     "exception": false,
     "start_time": "2022-05-06T12:21:43.219879",
     "status": "completed"
    },
    "tags": []
   },
   "source": [
    "### Class distribution"
   ]
  },
  {
   "cell_type": "code",
   "execution_count": null,
   "id": "582545ff",
   "metadata": {
    "execution": {
     "iopub.execute_input": "2022-05-06T12:21:43.374859Z",
     "iopub.status.busy": "2022-05-06T12:21:43.373999Z",
     "iopub.status.idle": "2022-05-06T12:21:43.972306Z",
     "shell.execute_reply": "2022-05-06T12:21:43.971304Z"
    },
    "papermill": {
     "duration": 0.652786,
     "end_time": "2022-05-06T12:21:43.975025",
     "exception": false,
     "start_time": "2022-05-06T12:21:43.322239",
     "status": "completed"
    },
    "tags": []
   },
   "outputs": [],
   "source": [
    "plt.rcParams['figure.figsize'] = (7, 5)\n",
    "plt.bar(10,len(df_non_sec_docs),3, label=\"Non security relevant docs\", color='blue')\n",
    "plt.bar(15,len(df_sec_docs),3, label=\"Security relevant docs\", color='red')\n",
    "plt.legend()\n",
    "ax = plt.gca()\n",
    "ax.axes.xaxis.set_visible(False)\n",
    "plt.ylabel('Number of documents')\n",
    "plt.title('Class distribution Windows 10 v1909 configuration settings')\n",
    "plt.savefig('ClassDist.png', bbox_inches='tight')\n",
    "plt.show()"
   ]
  },
  {
   "cell_type": "markdown",
   "id": "941ca431",
   "metadata": {
    "papermill": {
     "duration": 0.047069,
     "end_time": "2022-05-06T12:21:44.069326",
     "exception": false,
     "start_time": "2022-05-06T12:21:44.022257",
     "status": "completed"
    },
    "tags": []
   },
   "source": [
    "### Feature extraction characteristics"
   ]
  },
  {
   "cell_type": "code",
   "execution_count": null,
   "id": "171f9476",
   "metadata": {
    "execution": {
     "iopub.execute_input": "2022-05-06T12:21:44.172972Z",
     "iopub.status.busy": "2022-05-06T12:21:44.172627Z",
     "iopub.status.idle": "2022-05-06T12:21:44.181913Z",
     "shell.execute_reply": "2022-05-06T12:21:44.180852Z"
    },
    "papermill": {
     "duration": 0.064882,
     "end_time": "2022-05-06T12:21:44.183952",
     "exception": false,
     "start_time": "2022-05-06T12:21:44.119070",
     "status": "completed"
    },
    "tags": []
   },
   "outputs": [],
   "source": [
    "punctuations = string.punctuation\n",
    "\n",
    "def print_word_cloud(input_words, title, file_name):\n",
    "    \"\"\"\n",
    "    create word cloud and save to file\n",
    "    \"\"\"\n",
    "    plt.figure(figsize=(16,13))\n",
    "    word_could_dict=Counter(input_words)\n",
    "    wc = WordCloud(background_color=\"white\", max_words=500, max_font_size= 200,  width=1600, height=800).generate_from_frequencies(word_could_dict)\n",
    "    plt.title(title, fontsize=20)\n",
    "    plt.imshow(wc.recolor( colormap= 'viridis' , random_state=17), alpha=0.98, interpolation=\"bilinear\", )\n",
    "    plt.axis('off')\n",
    "    wc.to_file(file_name)\n",
    "    \n",
    "def to_df(words, col_lst):\n",
    "    \"\"\"\n",
    "    display dataframe with color gradient\n",
    "    \"\"\"\n",
    "    df = DataFrame(words)\n",
    "    df.columns = col_lst\n",
    "    display(df.style.background_gradient(cmap='Blues'))"
   ]
  },
  {
   "cell_type": "markdown",
   "id": "6d7b4d9b",
   "metadata": {
    "papermill": {
     "duration": 0.048535,
     "end_time": "2022-05-06T12:21:44.281295",
     "exception": false,
     "start_time": "2022-05-06T12:21:44.232760",
     "status": "completed"
    },
    "tags": []
   },
   "source": [
    "### POS Tags"
   ]
  },
  {
   "cell_type": "markdown",
   "id": "43540366",
   "metadata": {
    "papermill": {
     "duration": 0.051884,
     "end_time": "2022-05-06T12:21:44.384031",
     "exception": false,
     "start_time": "2022-05-06T12:21:44.332147",
     "status": "completed"
    },
    "tags": []
   },
   "source": [
    "#### Distribution\n",
    "The words from the sec-docs are grouped by their POS tag and displayed in a word cloud"
   ]
  },
  {
   "cell_type": "code",
   "execution_count": null,
   "id": "b682db26",
   "metadata": {
    "execution": {
     "iopub.execute_input": "2022-05-06T12:21:44.491764Z",
     "iopub.status.busy": "2022-05-06T12:21:44.491286Z",
     "iopub.status.idle": "2022-05-06T12:22:04.209249Z",
     "shell.execute_reply": "2022-05-06T12:22:04.208343Z"
    },
    "papermill": {
     "duration": 19.777311,
     "end_time": "2022-05-06T12:22:04.215552",
     "exception": false,
     "start_time": "2022-05-06T12:21:44.438241",
     "status": "completed"
    },
    "tags": []
   },
   "outputs": [],
   "source": [
    "regex = re.compile('[@_!#$%^&*()<>?/\\|}{~:]')\n",
    "pos_dict = {'NN':[],'JJ':[],'VB':[],'RB':[]}\n",
    "for pos in pos_dict:\n",
    "    pos_dict[pos]= [token.lemma_.lower() for doc in spacy_sec_docs for sent in doc.sents for token in sent if (regex.search(token.text) is None) and (not token.is_stop) and re.search(re.compile(rf'{pos}.*'),token.tag_)]\n",
    "    print_word_cloud(pos_dict[pos], f\"{pos} in Windows 10 v1909 security documents\", f\"{pos}Wc.png\") "
   ]
  },
  {
   "cell_type": "markdown",
   "id": "cc082ccf",
   "metadata": {
    "papermill": {
     "duration": 0.096732,
     "end_time": "2022-05-06T12:22:04.409827",
     "exception": false,
     "start_time": "2022-05-06T12:22:04.313095",
     "status": "completed"
    },
    "tags": []
   },
   "source": [
    "#### Frequent noun chunks"
   ]
  },
  {
   "cell_type": "code",
   "execution_count": null,
   "id": "c847f747",
   "metadata": {
    "execution": {
     "iopub.execute_input": "2022-05-06T12:22:04.608639Z",
     "iopub.status.busy": "2022-05-06T12:22:04.607067Z",
     "iopub.status.idle": "2022-05-06T12:22:05.481722Z",
     "shell.execute_reply": "2022-05-06T12:22:05.480875Z"
    },
    "papermill": {
     "duration": 0.976413,
     "end_time": "2022-05-06T12:22:05.484316",
     "exception": false,
     "start_time": "2022-05-06T12:22:04.507903",
     "status": "completed"
    },
    "tags": []
   },
   "outputs": [],
   "source": [
    "noun_chunks = Counter([chunk.text.lower() for doc in spacy_sec_docs for sent in doc.sents for chunk in sent.noun_chunks if len(chunk.text)>4])\n",
    "to_df(noun_chunks.most_common(50), ['noun_chunks','count'])"
   ]
  },
  {
   "cell_type": "markdown",
   "id": "1ce12639",
   "metadata": {
    "papermill": {
     "duration": 0.10253,
     "end_time": "2022-05-06T12:22:05.687155",
     "exception": false,
     "start_time": "2022-05-06T12:22:05.584625",
     "status": "completed"
    },
    "tags": []
   },
   "source": [
    "### N-grams"
   ]
  },
  {
   "cell_type": "markdown",
   "id": "10c7806d",
   "metadata": {
    "papermill": {
     "duration": 0.102966,
     "end_time": "2022-05-06T12:22:05.892152",
     "exception": false,
     "start_time": "2022-05-06T12:22:05.789186",
     "status": "completed"
    },
    "tags": []
   },
   "source": [
    "#### Collocations"
   ]
  },
  {
   "cell_type": "code",
   "execution_count": null,
   "id": "f3df354d",
   "metadata": {
    "execution": {
     "iopub.execute_input": "2022-05-06T12:22:06.102321Z",
     "iopub.status.busy": "2022-05-06T12:22:06.101470Z",
     "iopub.status.idle": "2022-05-06T12:22:06.834917Z",
     "shell.execute_reply": "2022-05-06T12:22:06.833578Z"
    },
    "papermill": {
     "duration": 0.840412,
     "end_time": "2022-05-06T12:22:06.837521",
     "exception": false,
     "start_time": "2022-05-06T12:22:05.997109",
     "status": "completed"
    },
    "tags": []
   },
   "outputs": [],
   "source": [
    "plain_tokens =[token for document in sec_docs_text for token in word_tokenize(document)]\n",
    "Text(plain_tokens).collocations()"
   ]
  },
  {
   "cell_type": "markdown",
   "id": "02cb3248",
   "metadata": {
    "papermill": {
     "duration": 0.10038,
     "end_time": "2022-05-06T12:22:07.038590",
     "exception": false,
     "start_time": "2022-05-06T12:22:06.938210",
     "status": "completed"
    },
    "tags": []
   },
   "source": [
    "#### Named Entity Recognition"
   ]
  },
  {
   "cell_type": "code",
   "execution_count": null,
   "id": "ce0b61bd",
   "metadata": {
    "execution": {
     "iopub.execute_input": "2022-05-06T12:22:07.242003Z",
     "iopub.status.busy": "2022-05-06T12:22:07.241684Z",
     "iopub.status.idle": "2022-05-06T12:22:13.625581Z",
     "shell.execute_reply": "2022-05-06T12:22:13.624734Z"
    },
    "papermill": {
     "duration": 6.494838,
     "end_time": "2022-05-06T12:22:13.635191",
     "exception": false,
     "start_time": "2022-05-06T12:22:07.140353",
     "status": "completed"
    },
    "tags": []
   },
   "outputs": [],
   "source": [
    "ner=[ent.text.lower() for doc in spacy_sec_docs for sent in doc.sents for ent in sent.ents if len(sent)>3]\n",
    "print_word_cloud(ner, \"Named entities in security documents\", \"NE.png\")"
   ]
  },
  {
   "cell_type": "markdown",
   "id": "9c1649d4",
   "metadata": {
    "papermill": {
     "duration": 0.115629,
     "end_time": "2022-05-06T12:22:13.868204",
     "exception": false,
     "start_time": "2022-05-06T12:22:13.752575",
     "status": "completed"
    },
    "tags": []
   },
   "source": [
    "### Frequency"
   ]
  },
  {
   "cell_type": "markdown",
   "id": "66dc50a2",
   "metadata": {
    "papermill": {
     "duration": 0.114616,
     "end_time": "2022-05-06T12:22:14.097776",
     "exception": false,
     "start_time": "2022-05-06T12:22:13.983160",
     "status": "completed"
    },
    "tags": []
   },
   "source": [
    "#### 1. High frequency"
   ]
  },
  {
   "cell_type": "markdown",
   "id": "a0d251a8",
   "metadata": {
    "papermill": {
     "duration": 0.114001,
     "end_time": "2022-05-06T12:22:14.327553",
     "exception": false,
     "start_time": "2022-05-06T12:22:14.213552",
     "status": "completed"
    },
    "tags": []
   },
   "source": [
    "#### Sec-docs"
   ]
  },
  {
   "cell_type": "code",
   "execution_count": null,
   "id": "23063e78",
   "metadata": {
    "execution": {
     "iopub.execute_input": "2022-05-06T12:22:14.556886Z",
     "iopub.status.busy": "2022-05-06T12:22:14.556601Z",
     "iopub.status.idle": "2022-05-06T12:22:14.626275Z",
     "shell.execute_reply": "2022-05-06T12:22:14.625267Z"
    },
    "papermill": {
     "duration": 0.188973,
     "end_time": "2022-05-06T12:22:14.630122",
     "exception": false,
     "start_time": "2022-05-06T12:22:14.441149",
     "status": "completed"
    },
    "tags": []
   },
   "outputs": [],
   "source": [
    "sec_lemma_tokens = Counter([token.lemma_.lower() for doc in spacy_sec_docs for sent in doc.sents for token in sent if (not token.is_stop) and (token.lemma_ not in punctuations)])\n",
    "print(f\"Amount of sec tokens: {len(sec_lemma_tokens)}\")\n",
    "to_df(sec_lemma_tokens.most_common(50), ['Frequent_words','Count'])"
   ]
  },
  {
   "cell_type": "markdown",
   "id": "bb63fed7",
   "metadata": {
    "papermill": {
     "duration": 0.11548,
     "end_time": "2022-05-06T12:22:14.860913",
     "exception": false,
     "start_time": "2022-05-06T12:22:14.745433",
     "status": "completed"
    },
    "tags": []
   },
   "source": [
    "#### Non-sec-docs"
   ]
  },
  {
   "cell_type": "code",
   "execution_count": null,
   "id": "e38b6f2f",
   "metadata": {
    "execution": {
     "iopub.execute_input": "2022-05-06T12:22:15.095679Z",
     "iopub.status.busy": "2022-05-06T12:22:15.094894Z",
     "iopub.status.idle": "2022-05-06T12:22:15.949981Z",
     "shell.execute_reply": "2022-05-06T12:22:15.948839Z"
    },
    "papermill": {
     "duration": 0.974948,
     "end_time": "2022-05-06T12:22:15.952567",
     "exception": false,
     "start_time": "2022-05-06T12:22:14.977619",
     "status": "completed"
    },
    "tags": []
   },
   "outputs": [],
   "source": [
    "non_sec_lemma_tokens = Counter([token.lemma_.lower() for doc in spacy_non_sec_docs for sent in doc.sents for token in sent if (not token.is_stop) and (token.lemma_ not in punctuations)])\n",
    "print(f\"Amount of non-sec tokens: {len(non_sec_lemma_tokens)}\")\n",
    "to_df(non_sec_lemma_tokens.most_common(50), ['Frequent_words','Count'])"
   ]
  },
  {
   "cell_type": "markdown",
   "id": "5e0f7469",
   "metadata": {
    "papermill": {
     "duration": 0.134091,
     "end_time": "2022-05-06T12:22:16.216728",
     "exception": false,
     "start_time": "2022-05-06T12:22:16.082637",
     "status": "completed"
    },
    "tags": []
   },
   "source": [
    "#### Frequency of security relevant & frequent words from sec-docs in non-sec-docs"
   ]
  },
  {
   "cell_type": "code",
   "execution_count": null,
   "id": "704cb56e",
   "metadata": {
    "execution": {
     "iopub.execute_input": "2022-05-06T12:22:16.460578Z",
     "iopub.status.busy": "2022-05-06T12:22:16.460310Z",
     "iopub.status.idle": "2022-05-06T12:22:17.187934Z",
     "shell.execute_reply": "2022-05-06T12:22:17.187035Z"
    },
    "papermill": {
     "duration": 0.854158,
     "end_time": "2022-05-06T12:22:17.190141",
     "exception": false,
     "start_time": "2022-05-06T12:22:16.335983",
     "status": "completed"
    },
    "tags": []
   },
   "outputs": [],
   "source": [
    "security_identifying_words = {'access', 'password', 'bitlocker', 'encryption', 'update', 'recovery'}\n",
    "sec_tokens_in_non_sec_docs = Counter([token.lemma_.lower() for doc in spacy_non_sec_docs for sent in doc.sents for token in sent if token.lemma_.lower() in security_identifying_words])\n",
    "to_df(sec_tokens_in_non_sec_docs.most_common(6), ['Sec_words','Count_in_non-sec_docs'])"
   ]
  },
  {
   "cell_type": "markdown",
   "id": "67d3e0f3",
   "metadata": {
    "papermill": {
     "duration": 0.117547,
     "end_time": "2022-05-06T12:22:17.425560",
     "exception": false,
     "start_time": "2022-05-06T12:22:17.308013",
     "status": "completed"
    },
    "tags": []
   },
   "source": [
    "#### 2. Words occurring only in sec or non-sec docs"
   ]
  },
  {
   "cell_type": "markdown",
   "id": "990dd441",
   "metadata": {
    "papermill": {
     "duration": 0.140472,
     "end_time": "2022-05-06T12:22:17.684548",
     "exception": false,
     "start_time": "2022-05-06T12:22:17.544076",
     "status": "completed"
    },
    "tags": []
   },
   "source": [
    "#### Words occurring only in sec docs"
   ]
  },
  {
   "cell_type": "code",
   "execution_count": null,
   "id": "5e95b4ed",
   "metadata": {
    "execution": {
     "iopub.execute_input": "2022-05-06T12:22:17.927535Z",
     "iopub.status.busy": "2022-05-06T12:22:17.926659Z",
     "iopub.status.idle": "2022-05-06T12:22:21.758914Z",
     "shell.execute_reply": "2022-05-06T12:22:21.758050Z"
    },
    "papermill": {
     "duration": 3.960376,
     "end_time": "2022-05-06T12:22:21.766222",
     "exception": false,
     "start_time": "2022-05-06T12:22:17.805846",
     "status": "completed"
    },
    "tags": []
   },
   "outputs": [],
   "source": [
    "sec_tokens = sec_lemma_tokens.keys()\n",
    "non_sec_tokens = non_sec_lemma_tokens.keys()\n",
    "\n",
    "sec_only_words = sec_tokens-non_sec_tokens\n",
    "# display long words that occur only in sec-docs\n",
    "long_sec_only_words = set(word for word in sec_only_words if (len(word)>2) and (len(word)<16) and (regex.search(word) is None))\n",
    "\n",
    "print(f\"Number of words occurring only in security documents: {len(long_sec_only_words)}\")\n",
    "\n",
    "# Word-Cloud\n",
    "print_word_cloud(long_sec_only_words, \"Words occurring in sec-docs only\", \"OnlySecWords.png\")"
   ]
  },
  {
   "cell_type": "code",
   "execution_count": null,
   "id": "1d51818e",
   "metadata": {
    "execution": {
     "iopub.execute_input": "2022-05-06T12:22:22.030593Z",
     "iopub.status.busy": "2022-05-06T12:22:22.030309Z",
     "iopub.status.idle": "2022-05-06T12:22:22.036133Z",
     "shell.execute_reply": "2022-05-06T12:22:22.035195Z"
    },
    "papermill": {
     "duration": 0.141295,
     "end_time": "2022-05-06T12:22:22.038831",
     "exception": false,
     "start_time": "2022-05-06T12:22:21.897536",
     "status": "completed"
    },
    "tags": []
   },
   "outputs": [],
   "source": [
    "long_low_freq_sec_only_words = set(word for word in long_sec_only_words if sec_lemma_tokens[word]<=5) \n",
    "print(f\"Number of words occurring only in security documents having a low frequency < 5: {len(long_low_freq_sec_only_words)}\")"
   ]
  },
  {
   "cell_type": "code",
   "execution_count": null,
   "id": "5dc5ffb2",
   "metadata": {
    "execution": {
     "iopub.execute_input": "2022-05-06T12:22:22.304960Z",
     "iopub.status.busy": "2022-05-06T12:22:22.304666Z",
     "iopub.status.idle": "2022-05-06T12:22:23.685614Z",
     "shell.execute_reply": "2022-05-06T12:22:23.684746Z"
    },
    "papermill": {
     "duration": 1.518205,
     "end_time": "2022-05-06T12:22:23.689502",
     "exception": false,
     "start_time": "2022-05-06T12:22:22.171297",
     "status": "completed"
    },
    "tags": []
   },
   "outputs": [],
   "source": [
    "long_G5freq_sec_only_words = set(word for word in long_sec_only_words if sec_lemma_tokens[word]>5)\n",
    "\n",
    "print(f\"Number of words occurring only in security documents having a frequency > 5: {len(long_G5freq_sec_only_words)}\")\n",
    "\n",
    "# Word-Cloud\n",
    "print_word_cloud(long_G5freq_sec_only_words, \"Words occurring only in sec docs with a frequency > 5\", \"freq-sec-only.png\")"
   ]
  },
  {
   "cell_type": "markdown",
   "id": "6e04a2e3",
   "metadata": {
    "papermill": {
     "duration": 0.137367,
     "end_time": "2022-05-06T12:22:23.963974",
     "exception": false,
     "start_time": "2022-05-06T12:22:23.826607",
     "status": "completed"
    },
    "tags": []
   },
   "source": [
    "#### Words occurring only in non-sec-docs"
   ]
  },
  {
   "cell_type": "code",
   "execution_count": null,
   "id": "0f7da7d8",
   "metadata": {
    "execution": {
     "iopub.execute_input": "2022-05-06T12:22:24.247010Z",
     "iopub.status.busy": "2022-05-06T12:22:24.246044Z",
     "iopub.status.idle": "2022-05-06T12:22:31.451616Z",
     "shell.execute_reply": "2022-05-06T12:22:31.450838Z"
    },
    "papermill": {
     "duration": 7.356684,
     "end_time": "2022-05-06T12:22:31.461507",
     "exception": false,
     "start_time": "2022-05-06T12:22:24.104823",
     "status": "completed"
    },
    "tags": []
   },
   "outputs": [],
   "source": [
    "non_sec_only_words = non_sec_tokens-sec_tokens\n",
    "# display long words that occur only in non-sec-docs\n",
    "long_non_sec_only_words = set(word for word in non_sec_only_words if (len(word)>2) and (len(word)<16) and (regex.search(word) is None))\n",
    "\n",
    "print(f\"Number of words occurring only in non-sec documents: {len(long_non_sec_only_words)}\")\n",
    "\n",
    "# Word-Cloud\n",
    "print_word_cloud(long_non_sec_only_words, \"Words occurring in non-sec-docs only\", \"Non-sec-only.png\")"
   ]
  },
  {
   "cell_type": "code",
   "execution_count": null,
   "id": "828b7e5c",
   "metadata": {
    "execution": {
     "iopub.execute_input": "2022-05-06T12:22:31.769648Z",
     "iopub.status.busy": "2022-05-06T12:22:31.769294Z",
     "iopub.status.idle": "2022-05-06T12:22:32.638655Z",
     "shell.execute_reply": "2022-05-06T12:22:32.637643Z"
    },
    "papermill": {
     "duration": 1.025692,
     "end_time": "2022-05-06T12:22:32.640926",
     "exception": false,
     "start_time": "2022-05-06T12:22:31.615234",
     "status": "completed"
    },
    "tags": []
   },
   "outputs": [],
   "source": [
    "non_sec_only_freq = Counter([token.lemma_.lower() for doc in spacy_non_sec_docs for sent in doc.sents for token in sent if (not token.is_stop) and (token.lemma_ not in punctuations) and (token.lemma_.lower() not in sec_tokens)])\n",
    "to_df(non_sec_only_freq.most_common(50), ['Words_in_non-sec_docs_only','Count'])"
   ]
  },
  {
   "cell_type": "markdown",
   "id": "83f36346",
   "metadata": {
    "papermill": {
     "duration": 0.158825,
     "end_time": "2022-05-06T12:22:32.957142",
     "exception": false,
     "start_time": "2022-05-06T12:22:32.798317",
     "status": "completed"
    },
    "tags": []
   },
   "source": [
    "#### 3. Td-idf"
   ]
  },
  {
   "cell_type": "code",
   "execution_count": null,
   "id": "f3616cfa",
   "metadata": {
    "execution": {
     "iopub.execute_input": "2022-05-06T12:22:33.273419Z",
     "iopub.status.busy": "2022-05-06T12:22:33.272841Z",
     "iopub.status.idle": "2022-05-06T12:22:33.281614Z",
     "shell.execute_reply": "2022-05-06T12:22:33.280876Z"
    },
    "papermill": {
     "duration": 0.169272,
     "end_time": "2022-05-06T12:22:33.283764",
     "exception": false,
     "start_time": "2022-05-06T12:22:33.114492",
     "status": "completed"
    },
    "tags": []
   },
   "outputs": [],
   "source": [
    "# https://www.bogotobogo.com/python/NLTK/tf_idf_with_scikit-learn_NLTK.php\n",
    "def tokenize(text):\n",
    "    \"\"\"\n",
    "    tokenize text and remove stop words and punctuations\n",
    "    \"\"\"\n",
    "    spacy_text= nlp(text)\n",
    "    lemma_tokens = [token.lemma_.lower() for sent in spacy_text.sents for token in sent if (not token.is_stop) and (token.lemma_ not in punctuations)]\n",
    "    return lemma_tokens\n",
    "\n",
    "def tf_idf_feature_extraction(data):\n",
    "    \"\"\"\n",
    "    Extract features using TF-IDF\n",
    "    \"\"\"\n",
    "    vectorizer = TfidfVectorizer(tokenizer=tokenize)\n",
    "    feature_set = set()\n",
    "    response = vectorizer.fit_transform(data)\n",
    "    for i in range(len(data)):\n",
    "        df = DataFrame(response[i].T.todense(),\n",
    "            index=vectorizer.get_feature_names(),\n",
    "            columns=[\"tfidf\"])\n",
    "        for e in df.index[df.tfidf >= 0.5].tolist():\n",
    "            if (len(e) > 2) and (len(e) < 16):\n",
    "                feature_set.add(e)\n",
    "    return feature_set"
   ]
  },
  {
   "cell_type": "markdown",
   "id": "53b3f0e2",
   "metadata": {
    "papermill": {
     "duration": 0.156324,
     "end_time": "2022-05-06T12:22:33.595513",
     "exception": false,
     "start_time": "2022-05-06T12:22:33.439189",
     "status": "completed"
    },
    "tags": []
   },
   "source": [
    "#### Sec-docs"
   ]
  },
  {
   "cell_type": "code",
   "execution_count": null,
   "id": "409df7a8",
   "metadata": {
    "execution": {
     "iopub.execute_input": "2022-05-06T12:22:33.912947Z",
     "iopub.status.busy": "2022-05-06T12:22:33.912326Z",
     "iopub.status.idle": "2022-05-06T12:22:45.171076Z",
     "shell.execute_reply": "2022-05-06T12:22:45.170217Z"
    },
    "papermill": {
     "duration": 11.42404,
     "end_time": "2022-05-06T12:22:45.178232",
     "exception": false,
     "start_time": "2022-05-06T12:22:33.754192",
     "status": "completed"
    },
    "tags": []
   },
   "outputs": [],
   "source": [
    "tfidf_sec_docs_features = tf_idf_feature_extraction(sec_docs_text)\n",
    "print(f\"Feature size: {len(tfidf_sec_docs_features)}\")\n",
    "\n",
    "# Word-Cloud\n",
    "print_word_cloud(tfidf_sec_docs_features, \"Tf-idf sec-docs features\", \"tf_idf_sec_docs_features.png\")"
   ]
  },
  {
   "cell_type": "markdown",
   "id": "a663df5d",
   "metadata": {
    "papermill": {
     "duration": 0.17004,
     "end_time": "2022-05-06T12:22:45.525377",
     "exception": false,
     "start_time": "2022-05-06T12:22:45.355337",
     "status": "completed"
    },
    "tags": []
   },
   "source": [
    "##### Manual identification of security relevant words"
   ]
  },
  {
   "cell_type": "code",
   "execution_count": null,
   "id": "26de3e35",
   "metadata": {
    "execution": {
     "iopub.execute_input": "2022-05-06T12:22:45.866212Z",
     "iopub.status.busy": "2022-05-06T12:22:45.865849Z",
     "iopub.status.idle": "2022-05-06T12:22:48.558578Z",
     "shell.execute_reply": "2022-05-06T12:22:48.557629Z"
    },
    "papermill": {
     "duration": 2.870149,
     "end_time": "2022-05-06T12:22:48.564450",
     "exception": false,
     "start_time": "2022-05-06T12:22:45.694301",
     "status": "completed"
    },
    "tags": []
   },
   "outputs": [],
   "source": [
    "sec_identifying_words={'inprivate', 'connectivity', 'trust', 'spotlight', 'encryption', 'registration', 'wdig', 'print', 'insecure', 'pin', 'preview', 'blocker', 'recovery', 'recording', 'disconnected', 'remote', 'log', 'game', 'bridge', 'antivirus', 'updates', 'store', 'standby', 'peer', 'driver', 'quality', 'complexity', 'build', 'index', 'winrm', 'pause', 'boot', 'protocol', 'search', 'autoplay', 'toast', 'cookie', 'sehop', 'monitoring', 'camera', 'cortana', 'flag', 'certificate', 'notification', 'scan', 'connection', 'rpc', 'installation', 'elevate', 'dangerous', 'smartscreen', 'clipboard', 'password', 'lpt', 'microphone', 'credssp', 'watson', 'join', 'share', 'sleep', 'player', 'redirection', 'publish', 'push', 'credential', 'dma', 'expiration', 'update', 'authentication', 'mapper', 'location', 'late', 'ntp', 'saver', 'enumerate', 'restart', 'error', 'autorun', 'tip', 'llmnr'}\n",
    "print(f\"Number of security identifying words: {len(sec_identifying_words)}\")\n",
    "\n",
    "# Word-Cloud\n",
    "print_word_cloud(sec_identifying_words, \"Tf-idf security words\", \"security_words.png\")"
   ]
  },
  {
   "cell_type": "markdown",
   "id": "32f96a62",
   "metadata": {
    "papermill": {
     "duration": 0.17664,
     "end_time": "2022-05-06T12:22:48.923465",
     "exception": false,
     "start_time": "2022-05-06T12:22:48.746825",
     "status": "completed"
    },
    "tags": []
   },
   "source": [
    "#### Frequency of security relevant words identified with td-idf in non-sec docs"
   ]
  },
  {
   "cell_type": "code",
   "execution_count": null,
   "id": "027a4d38",
   "metadata": {
    "execution": {
     "iopub.execute_input": "2022-05-06T12:22:49.319411Z",
     "iopub.status.busy": "2022-05-06T12:22:49.319095Z",
     "iopub.status.idle": "2022-05-06T12:22:50.070837Z",
     "shell.execute_reply": "2022-05-06T12:22:50.069965Z"
    },
    "papermill": {
     "duration": 0.964483,
     "end_time": "2022-05-06T12:22:50.073350",
     "exception": false,
     "start_time": "2022-05-06T12:22:49.108867",
     "status": "completed"
    },
    "tags": []
   },
   "outputs": [],
   "source": [
    "freq_sec_words_in_non_sec_docs = Counter([token.lemma_.lower() for doc in spacy_non_sec_docs for sent in doc.sents for token in sent if token.lemma_.lower() in sec_identifying_words])\n",
    "to_df(freq_sec_words_in_non_sec_docs.most_common(50), ['Sec_words','Count_in_non-sec_docs'])"
   ]
  },
  {
   "cell_type": "markdown",
   "id": "28a44f99",
   "metadata": {
    "papermill": {
     "duration": 0.183231,
     "end_time": "2022-05-06T12:22:50.441366",
     "exception": false,
     "start_time": "2022-05-06T12:22:50.258135",
     "status": "completed"
    },
    "tags": []
   },
   "source": [
    "#### POS Tags of security relevant words"
   ]
  },
  {
   "cell_type": "code",
   "execution_count": null,
   "id": "b958459e",
   "metadata": {
    "execution": {
     "iopub.execute_input": "2022-05-06T12:22:50.812326Z",
     "iopub.status.busy": "2022-05-06T12:22:50.811731Z",
     "iopub.status.idle": "2022-05-06T12:22:51.285963Z",
     "shell.execute_reply": "2022-05-06T12:22:51.285056Z"
    },
    "papermill": {
     "duration": 0.661758,
     "end_time": "2022-05-06T12:22:51.288169",
     "exception": false,
     "start_time": "2022-05-06T12:22:50.626411",
     "status": "completed"
    },
    "tags": []
   },
   "outputs": [],
   "source": [
    "tag_dict = {'NN':0, 'VB':0, 'JJ':0, 'RB':0}\n",
    "for pos in tag_dict:\n",
    "    tag_dict[pos]= len([1 for doc in spacy_sec_docs for sent in doc.sents for token in sent if (token.lemma_.lower() in sec_identifying_words) and re.search(re.compile(rf'{pos}.*'),token.tag_)])\n",
    "plt.rcParams['figure.figsize'] = (18.0, 6.0)\n",
    "x,y=zip(*tag_dict.items())\n",
    "plt.bar(x,y)\n",
    "plt.savefig('POSDist.png', bbox_inches='tight')     "
   ]
  },
  {
   "cell_type": "markdown",
   "id": "b393bb78",
   "metadata": {
    "papermill": {
     "duration": 0.181327,
     "end_time": "2022-05-06T12:22:51.650938",
     "exception": false,
     "start_time": "2022-05-06T12:22:51.469611",
     "status": "completed"
    },
    "tags": []
   },
   "source": [
    "#### Non-sec-docs"
   ]
  },
  {
   "cell_type": "code",
   "execution_count": null,
   "id": "755c93bd",
   "metadata": {
    "execution": {
     "iopub.execute_input": "2022-05-06T12:22:52.015264Z",
     "iopub.status.busy": "2022-05-06T12:22:52.014960Z",
     "iopub.status.idle": "2022-05-06T12:25:18.939134Z",
     "shell.execute_reply": "2022-05-06T12:25:18.938221Z"
    },
    "papermill": {
     "duration": 147.11818,
     "end_time": "2022-05-06T12:25:18.949330",
     "exception": false,
     "start_time": "2022-05-06T12:22:51.831150",
     "status": "completed"
    },
    "tags": []
   },
   "outputs": [],
   "source": [
    "tfidf_non_sec_docs_features = tf_idf_feature_extraction(non_sec_docs_text)\n",
    "print(f\"Feature size: {len(tfidf_non_sec_docs_features)}\")\n",
    "\n",
    "# Word-Cloud\n",
    "print_word_cloud(tfidf_non_sec_docs_features, \"Tf-idf non-sec-docs features\", \"tf_idf_non_sec_docs_features.png\")"
   ]
  },
  {
   "cell_type": "code",
   "execution_count": null,
   "id": "d60d2d5b",
   "metadata": {
    "execution": {
     "iopub.execute_input": "2022-05-06T12:25:19.354345Z",
     "iopub.status.busy": "2022-05-06T12:25:19.353868Z",
     "iopub.status.idle": "2022-05-06T12:25:20.241725Z",
     "shell.execute_reply": "2022-05-06T12:25:20.240851Z"
    },
    "papermill": {
     "duration": 1.092668,
     "end_time": "2022-05-06T12:25:20.243935",
     "exception": false,
     "start_time": "2022-05-06T12:25:19.151267",
     "status": "completed"
    },
    "tags": []
   },
   "outputs": [],
   "source": [
    "tfidf_non_sec_words_freq = Counter([token.lemma_.lower() for doc in spacy_non_sec_docs for sent in doc.sents for token in sent if (not token.is_stop) and (token.lemma_ not in punctuations) and (token.lemma_.lower() in tfidf_non_sec_docs_features) and (token.lemma_.lower() not in sec_tokens)])\n",
    "print(f\"Number of Tfidf features occurring in non-sec and not in sec-docs {len(tfidf_non_sec_words_freq)}\")\n",
    "to_df(tfidf_non_sec_words_freq.most_common(50), ['Non-sec_tf-idf_features','Count'])"
   ]
  },
  {
   "cell_type": "code",
   "execution_count": null,
   "id": "c7d9309b",
   "metadata": {
    "execution": {
     "iopub.execute_input": "2022-05-06T12:25:20.657712Z",
     "iopub.status.busy": "2022-05-06T12:25:20.657395Z",
     "iopub.status.idle": "2022-05-06T12:25:26.099822Z",
     "shell.execute_reply": "2022-05-06T12:25:26.099180Z"
    },
    "papermill": {
     "duration": 5.656604,
     "end_time": "2022-05-06T12:25:26.107270",
     "exception": false,
     "start_time": "2022-05-06T12:25:20.450666",
     "status": "completed"
    },
    "tags": []
   },
   "outputs": [],
   "source": [
    "# Word-Cloud\n",
    "print_word_cloud(tfidf_non_sec_words_freq, \"Tf-idf non-sec-only features\", \"tf_idf_non_sec_only_features.png\")"
   ]
  }
 ],
 "metadata": {
  "kernelspec": {
   "display_name": "Python 3",
   "language": "python",
   "name": "python3"
  },
  "language_info": {
   "codemirror_mode": {
    "name": "ipython",
    "version": 3
   },
   "file_extension": ".py",
   "mimetype": "text/x-python",
   "name": "python",
   "nbconvert_exporter": "python",
   "pygments_lexer": "ipython3",
   "version": "3.7.12"
  },
  "papermill": {
   "default_parameters": {},
   "duration": 385.971679,
   "end_time": "2022-05-06T12:25:29.314453",
   "environment_variables": {},
   "exception": null,
   "input_path": "__notebook__.ipynb",
   "output_path": "__notebook__.ipynb",
   "parameters": {},
   "start_time": "2022-05-06T12:19:03.342774",
   "version": "2.3.4"
  }
 },
 "nbformat": 4,
 "nbformat_minor": 5
}
